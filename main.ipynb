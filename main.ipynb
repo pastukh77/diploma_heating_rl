{
 "cells": [
  {
   "cell_type": "code",
   "execution_count": 1,
   "metadata": {},
   "outputs": [
    {
     "name": "stderr",
     "output_type": "stream",
     "text": [
      "/Users/yaroslav/opt/anaconda3/envs/diploma_env/lib/python3.10/site-packages/requests/__init__.py:109: RequestsDependencyWarning: urllib3 (2.0.2) or chardet (None)/charset_normalizer (3.1.0) doesn't match a supported version!\n",
      "  warnings.warn(\n",
      "  0%|          | 0/60000 [00:00<?, ?it/s]\n"
     ]
    },
    {
     "ename": "TypeError",
     "evalue": "RoomsEnv.reset() missing 1 required positional argument: 'self'",
     "output_type": "error",
     "traceback": [
      "\u001b[0;31m---------------------------------------------------------------------------\u001b[0m",
      "\u001b[0;31mTypeError\u001b[0m                                 Traceback (most recent call last)",
      "\u001b[1;32m/Users/yaroslav/Desktop/diploma/code/main.ipynb Cell 1\u001b[0m in \u001b[0;36m<cell line: 9>\u001b[0;34m()\u001b[0m\n\u001b[1;32m      <a href='vscode-notebook-cell:/Users/yaroslav/Desktop/diploma/code/main.ipynb#W0sZmlsZQ%3D%3D?line=5'>6</a>\u001b[0m bms_data \u001b[39m=\u001b[39m get_all_rooms(\u001b[39m\"\u001b[39m\u001b[39mdata-bms\u001b[39m\u001b[39m\"\u001b[39m)\n\u001b[1;32m      <a href='vscode-notebook-cell:/Users/yaroslav/Desktop/diploma/code/main.ipynb#W0sZmlsZQ%3D%3D?line=7'>8</a>\u001b[0m env \u001b[39m=\u001b[39m RoomsEnv(\u001b[39m\"\u001b[39m\u001b[39m2022-12-25 09:00:00\u001b[39m\u001b[39m\"\u001b[39m, \u001b[39m20\u001b[39m, bms_data, hours_to_heat\u001b[39m=\u001b[39m\u001b[39m5\u001b[39m)\n\u001b[0;32m----> <a href='vscode-notebook-cell:/Users/yaroslav/Desktop/diploma/code/main.ipynb#W0sZmlsZQ%3D%3D?line=8'>9</a>\u001b[0m result_env, agent \u001b[39m=\u001b[39m train(env)\n",
      "File \u001b[0;32m~/Desktop/diploma/code/train.py:29\u001b[0m, in \u001b[0;36mtrain\u001b[0;34m(env, learning_rate, n_episodes, start_epsilon, final_epsilon, enable_epsilon_decay)\u001b[0m\n\u001b[1;32m     26\u001b[0m env \u001b[39m=\u001b[39m gym\u001b[39m.\u001b[39mwrappers\u001b[39m.\u001b[39mRecordEpisodeStatistics(env, deque_size\u001b[39m=\u001b[39mn_episodes)\n\u001b[1;32m     28\u001b[0m \u001b[39mfor\u001b[39;00m episode \u001b[39min\u001b[39;00m tqdm(\u001b[39mrange\u001b[39m(n_episodes)):\n\u001b[0;32m---> 29\u001b[0m     obs, info \u001b[39m=\u001b[39m env\u001b[39m.\u001b[39;49mreset()\n\u001b[1;32m     30\u001b[0m     done \u001b[39m=\u001b[39m \u001b[39mFalse\u001b[39;00m\n\u001b[1;32m     32\u001b[0m     \u001b[39m# episode\u001b[39;00m\n",
      "File \u001b[0;32m~/opt/anaconda3/envs/diploma_env/lib/python3.10/site-packages/gym/wrappers/record_episode_statistics.py:98\u001b[0m, in \u001b[0;36mRecordEpisodeStatistics.reset\u001b[0;34m(self, **kwargs)\u001b[0m\n\u001b[1;32m     96\u001b[0m \u001b[39mdef\u001b[39;00m \u001b[39mreset\u001b[39m(\u001b[39mself\u001b[39m, \u001b[39m*\u001b[39m\u001b[39m*\u001b[39mkwargs):\n\u001b[1;32m     97\u001b[0m     \u001b[39m\"\"\"Resets the environment using kwargs and resets the episode returns and lengths.\"\"\"\u001b[39;00m\n\u001b[0;32m---> 98\u001b[0m     observations \u001b[39m=\u001b[39m \u001b[39msuper\u001b[39;49m()\u001b[39m.\u001b[39;49mreset(\u001b[39m*\u001b[39;49m\u001b[39m*\u001b[39;49mkwargs)\n\u001b[1;32m     99\u001b[0m     \u001b[39mself\u001b[39m\u001b[39m.\u001b[39mepisode_returns \u001b[39m=\u001b[39m np\u001b[39m.\u001b[39mzeros(\u001b[39mself\u001b[39m\u001b[39m.\u001b[39mnum_envs, dtype\u001b[39m=\u001b[39mnp\u001b[39m.\u001b[39mfloat32)\n\u001b[1;32m    100\u001b[0m     \u001b[39mself\u001b[39m\u001b[39m.\u001b[39mepisode_lengths \u001b[39m=\u001b[39m np\u001b[39m.\u001b[39mzeros(\u001b[39mself\u001b[39m\u001b[39m.\u001b[39mnum_envs, dtype\u001b[39m=\u001b[39mnp\u001b[39m.\u001b[39mint32)\n",
      "File \u001b[0;32m~/opt/anaconda3/envs/diploma_env/lib/python3.10/site-packages/gym/core.py:323\u001b[0m, in \u001b[0;36mWrapper.reset\u001b[0;34m(self, **kwargs)\u001b[0m\n\u001b[1;32m    321\u001b[0m \u001b[39mdef\u001b[39;00m \u001b[39mreset\u001b[39m(\u001b[39mself\u001b[39m, \u001b[39m*\u001b[39m\u001b[39m*\u001b[39mkwargs) \u001b[39m-\u001b[39m\u001b[39m>\u001b[39m Tuple[ObsType, \u001b[39mdict\u001b[39m]:\n\u001b[1;32m    322\u001b[0m     \u001b[39m\"\"\"Resets the environment with kwargs.\"\"\"\u001b[39;00m\n\u001b[0;32m--> 323\u001b[0m     \u001b[39mreturn\u001b[39;00m \u001b[39mself\u001b[39;49m\u001b[39m.\u001b[39;49menv\u001b[39m.\u001b[39;49mreset(\u001b[39m*\u001b[39;49m\u001b[39m*\u001b[39;49mkwargs)\n",
      "\u001b[0;31mTypeError\u001b[0m: RoomsEnv.reset() missing 1 required positional argument: 'self'"
     ]
    }
   ],
   "source": [
    "from env.env import RoomsEnv\n",
    "from agents.tabular_q_learning import TempAgent\n",
    "from train import train\n",
    "from data_process import get_all_rooms\n",
    "\n",
    "bms_data = get_all_rooms(\"data-bms\")\n",
    "\n",
    "env = RoomsEnv(\"2022-12-25 09:00:00\", 20, bms_data, hours_to_heat=5)\n",
    "result_env, agent = train(env)\n"
   ]
  },
  {
   "cell_type": "code",
   "execution_count": null,
   "metadata": {},
   "outputs": [],
   "source": []
  }
 ],
 "metadata": {
  "kernelspec": {
   "display_name": "diploma_env",
   "language": "python",
   "name": "diploma_env"
  },
  "language_info": {
   "codemirror_mode": {
    "name": "ipython",
    "version": 3
   },
   "file_extension": ".py",
   "mimetype": "text/x-python",
   "name": "python",
   "nbconvert_exporter": "python",
   "pygments_lexer": "ipython3",
   "version": "3.10.10"
  },
  "orig_nbformat": 4
 },
 "nbformat": 4,
 "nbformat_minor": 2
}
