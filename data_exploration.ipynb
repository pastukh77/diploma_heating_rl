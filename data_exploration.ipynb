{
 "cells": [
  {
   "cell_type": "code",
   "execution_count": 2,
   "metadata": {},
   "outputs": [],
   "source": [
    "import pandas as pd\n",
    "import altair as alt\n",
    "import os"
   ]
  },
  {
   "cell_type": "code",
   "execution_count": 3,
   "metadata": {},
   "outputs": [
    {
     "data": {
      "text/plain": [
       "['52', '520', '524', '522']"
      ]
     },
     "execution_count": 3,
     "metadata": {},
     "output_type": "execute_result"
    }
   ],
   "source": [
    "room_ids = set([x.split(\"_\")[0] for x in os.listdir(\"data-bms\")])\n",
    "room_ids = list(filter(lambda x: \".\" not in x, room_ids))\n",
    "room_ids"
   ]
  },
  {
   "cell_type": "code",
   "execution_count": 4,
   "metadata": {},
   "outputs": [
    {
     "ename": "NameError",
     "evalue": "name 'get_room_df' is not defined",
     "output_type": "error",
     "traceback": [
      "\u001b[0;31m---------------------------------------------------------------------------\u001b[0m",
      "\u001b[0;31mNameError\u001b[0m                                 Traceback (most recent call last)",
      "\u001b[1;32m/Users/yaroslav/Desktop/diploma/code/data_exploration.ipynb Cell 3\u001b[0m in \u001b[0;36m<cell line: 1>\u001b[0;34m()\u001b[0m\n\u001b[0;32m----> <a href='vscode-notebook-cell:/Users/yaroslav/Desktop/diploma/code/data_exploration.ipynb#W2sZmlsZQ%3D%3D?line=0'>1</a>\u001b[0m room_df \u001b[39m=\u001b[39m pd\u001b[39m.\u001b[39mconcat([get_room_df(room) \u001b[39mfor\u001b[39;00m room \u001b[39min\u001b[39;00m room_ids])\n\u001b[1;32m      <a href='vscode-notebook-cell:/Users/yaroslav/Desktop/diploma/code/data_exploration.ipynb#W2sZmlsZQ%3D%3D?line=1'>2</a>\u001b[0m room_df\n",
      "\u001b[1;32m/Users/yaroslav/Desktop/diploma/code/data_exploration.ipynb Cell 3\u001b[0m in \u001b[0;36m<listcomp>\u001b[0;34m(.0)\u001b[0m\n\u001b[0;32m----> <a href='vscode-notebook-cell:/Users/yaroslav/Desktop/diploma/code/data_exploration.ipynb#W2sZmlsZQ%3D%3D?line=0'>1</a>\u001b[0m room_df \u001b[39m=\u001b[39m pd\u001b[39m.\u001b[39mconcat([get_room_df(room) \u001b[39mfor\u001b[39;00m room \u001b[39min\u001b[39;00m room_ids])\n\u001b[1;32m      <a href='vscode-notebook-cell:/Users/yaroslav/Desktop/diploma/code/data_exploration.ipynb#W2sZmlsZQ%3D%3D?line=1'>2</a>\u001b[0m room_df\n",
      "\u001b[0;31mNameError\u001b[0m: name 'get_room_df' is not defined"
     ]
    }
   ],
   "source": [
    "room_df = pd.concat([get_room_df(room) for room in room_ids])\n",
    "room_df"
   ]
  },
  {
   "cell_type": "code",
   "execution_count": null,
   "metadata": {},
   "outputs": [],
   "source": [
    "weather_df = pd.read_csv(\"data-bms/weather.csv\")\n",
    "room_df.time = pd.to_datetime(room_df.time).dt.strftime('%Y-%m-%d %H:%M:%S')\n",
    "weather_df.time = pd.to_datetime(weather_df.time).dt.strftime('%Y-%m-%d %H:%M:%S')\n"
   ]
  },
  {
   "cell_type": "code",
   "execution_count": 5,
   "metadata": {},
   "outputs": [
    {
     "ename": "NameError",
     "evalue": "name 'room_df' is not defined",
     "output_type": "error",
     "traceback": [
      "\u001b[0;31m---------------------------------------------------------------------------\u001b[0m",
      "\u001b[0;31mNameError\u001b[0m                                 Traceback (most recent call last)",
      "\u001b[1;32m/Users/yaroslav/Desktop/diploma/code/data_exploration.ipynb Cell 5\u001b[0m in \u001b[0;36m<cell line: 1>\u001b[0;34m()\u001b[0m\n\u001b[0;32m----> <a href='vscode-notebook-cell:/Users/yaroslav/Desktop/diploma/code/data_exploration.ipynb#W4sZmlsZQ%3D%3D?line=0'>1</a>\u001b[0m df \u001b[39m=\u001b[39m pd\u001b[39m.\u001b[39mmerge(room_df, weather_df, on\u001b[39m=\u001b[39m\u001b[39m\"\u001b[39m\u001b[39mtime\u001b[39m\u001b[39m\"\u001b[39m)\n\u001b[1;32m      <a href='vscode-notebook-cell:/Users/yaroslav/Desktop/diploma/code/data_exploration.ipynb#W4sZmlsZQ%3D%3D?line=1'>2</a>\u001b[0m lst \u001b[39m=\u001b[39m []\n",
      "\u001b[0;31mNameError\u001b[0m: name 'room_df' is not defined"
     ]
    }
   ],
   "source": [
    "df = pd.merge(room_df, weather_df, on=\"time\")\n",
    "lst = []\n"
   ]
  },
  {
   "cell_type": "code",
   "execution_count": 6,
   "metadata": {},
   "outputs": [
    {
     "ename": "NameError",
     "evalue": "name 'res' is not defined",
     "output_type": "error",
     "traceback": [
      "\u001b[0;31m---------------------------------------------------------------------------\u001b[0m",
      "\u001b[0;31mNameError\u001b[0m                                 Traceback (most recent call last)",
      "\u001b[1;32m/Users/yaroslav/Desktop/diploma/code/data_exploration.ipynb Cell 6\u001b[0m in \u001b[0;36m<cell line: 1>\u001b[0;34m()\u001b[0m\n\u001b[1;32m      <a href='vscode-notebook-cell:/Users/yaroslav/Desktop/diploma/code/data_exploration.ipynb#W5sZmlsZQ%3D%3D?line=0'>1</a>\u001b[0m \u001b[39mfor\u001b[39;00m v \u001b[39min\u001b[39;00m [\u001b[39m17\u001b[39m, \u001b[39m18\u001b[39m, \u001b[39m20\u001b[39m]:\n\u001b[0;32m----> <a href='vscode-notebook-cell:/Users/yaroslav/Desktop/diploma/code/data_exploration.ipynb#W5sZmlsZQ%3D%3D?line=1'>2</a>\u001b[0m     p1 \u001b[39m=\u001b[39m res[res\u001b[39m.\u001b[39mvalve \u001b[39m==\u001b[39m v]\n\u001b[1;32m      <a href='vscode-notebook-cell:/Users/yaroslav/Desktop/diploma/code/data_exploration.ipynb#W5sZmlsZQ%3D%3D?line=2'>3</a>\u001b[0m     p1[\u001b[39m\"\u001b[39m\u001b[39mdiff\u001b[39m\u001b[39m\"\u001b[39m] \u001b[39m=\u001b[39m p1\u001b[39m.\u001b[39mtemp_target \u001b[39m-\u001b[39m p1\u001b[39m.\u001b[39mtemp_act\n\u001b[1;32m      <a href='vscode-notebook-cell:/Users/yaroslav/Desktop/diploma/code/data_exploration.ipynb#W5sZmlsZQ%3D%3D?line=3'>4</a>\u001b[0m     \u001b[39mprint\u001b[39m(v, p1[\u001b[39m\"\u001b[39m\u001b[39mdiff\u001b[39m\u001b[39m\"\u001b[39m]\u001b[39m.\u001b[39mmean())\n",
      "\u001b[0;31mNameError\u001b[0m: name 'res' is not defined"
     ]
    }
   ],
   "source": [
    "for v in [17, 18, 20]:\n",
    "    p1 = res[res.valve == v]\n",
    "    p1[\"diff\"] = p1.temp_target - p1.temp_act\n",
    "    print(v, p1[\"diff\"].mean())"
   ]
  },
  {
   "cell_type": "code",
   "execution_count": 7,
   "metadata": {},
   "outputs": [
    {
     "ename": "NameError",
     "evalue": "name 'res' is not defined",
     "output_type": "error",
     "traceback": [
      "\u001b[0;31m---------------------------------------------------------------------------\u001b[0m",
      "\u001b[0;31mNameError\u001b[0m                                 Traceback (most recent call last)",
      "\u001b[1;32m/Users/yaroslav/Desktop/diploma/code/data_exploration.ipynb Cell 7\u001b[0m in \u001b[0;36m<cell line: 1>\u001b[0;34m()\u001b[0m\n\u001b[1;32m      <a href='vscode-notebook-cell:/Users/yaroslav/Desktop/diploma/code/data_exploration.ipynb#W6sZmlsZQ%3D%3D?line=0'>1</a>\u001b[0m \u001b[39mfor\u001b[39;00m v \u001b[39min\u001b[39;00m [\u001b[39m17\u001b[39m, \u001b[39m18\u001b[39m, \u001b[39m20\u001b[39m]:\n\u001b[0;32m----> <a href='vscode-notebook-cell:/Users/yaroslav/Desktop/diploma/code/data_exploration.ipynb#W6sZmlsZQ%3D%3D?line=1'>2</a>\u001b[0m     p1 \u001b[39m=\u001b[39m res[res\u001b[39m.\u001b[39mvalve \u001b[39m==\u001b[39m v]\n\u001b[1;32m      <a href='vscode-notebook-cell:/Users/yaroslav/Desktop/diploma/code/data_exploration.ipynb#W6sZmlsZQ%3D%3D?line=2'>3</a>\u001b[0m     \u001b[39mprint\u001b[39m(v, p1[\u001b[39m\"\u001b[39m\u001b[39mtemp_delta\u001b[39m\u001b[39m\"\u001b[39m]\u001b[39m.\u001b[39mmean())\n",
      "\u001b[0;31mNameError\u001b[0m: name 'res' is not defined"
     ]
    }
   ],
   "source": [
    "for v in [17, 18, 20]:\n",
    "    p1 = res[res.valve == v]\n",
    "    print(v, p1[\"temp_delta\"].mean())"
   ]
  },
  {
   "cell_type": "code",
   "execution_count": 8,
   "metadata": {},
   "outputs": [
    {
     "ename": "NameError",
     "evalue": "name 'res' is not defined",
     "output_type": "error",
     "traceback": [
      "\u001b[0;31m---------------------------------------------------------------------------\u001b[0m",
      "\u001b[0;31mNameError\u001b[0m                                 Traceback (most recent call last)",
      "\u001b[1;32m/Users/yaroslav/Desktop/diploma/code/data_exploration.ipynb Cell 8\u001b[0m in \u001b[0;36m<cell line: 1>\u001b[0;34m()\u001b[0m\n\u001b[0;32m----> <a href='vscode-notebook-cell:/Users/yaroslav/Desktop/diploma/code/data_exploration.ipynb#X10sZmlsZQ%3D%3D?line=0'>1</a>\u001b[0m res[res\u001b[39m.\u001b[39mtemp_act \u001b[39m!=\u001b[39m res\u001b[39m.\u001b[39mnext_hour_temp]\n",
      "\u001b[0;31mNameError\u001b[0m: name 'res' is not defined"
     ]
    }
   ],
   "source": [
    "res[res.temp_act != res.next_hour_temp]"
   ]
  },
  {
   "cell_type": "code",
   "execution_count": null,
   "metadata": {},
   "outputs": [],
   "source": []
  },
  {
   "cell_type": "code",
   "execution_count": 9,
   "metadata": {},
   "outputs": [
    {
     "ename": "NameError",
     "evalue": "name 'res' is not defined",
     "output_type": "error",
     "traceback": [
      "\u001b[0;31m---------------------------------------------------------------------------\u001b[0m",
      "\u001b[0;31mNameError\u001b[0m                                 Traceback (most recent call last)",
      "\u001b[1;32m/Users/yaroslav/Desktop/diploma/code/data_exploration.ipynb Cell 10\u001b[0m in \u001b[0;36m<cell line: 5>\u001b[0;34m()\u001b[0m\n\u001b[1;32m      <a href='vscode-notebook-cell:/Users/yaroslav/Desktop/diploma/code/data_exploration.ipynb#X12sZmlsZQ%3D%3D?line=1'>2</a>\u001b[0m \u001b[39mimport\u001b[39;00m \u001b[39mnumpy\u001b[39;00m \u001b[39mas\u001b[39;00m \u001b[39mnp\u001b[39;00m\n\u001b[1;32m      <a href='vscode-notebook-cell:/Users/yaroslav/Desktop/diploma/code/data_exploration.ipynb#X12sZmlsZQ%3D%3D?line=2'>3</a>\u001b[0m v \u001b[39m=\u001b[39m \u001b[39m20\u001b[39m\n\u001b[0;32m----> <a href='vscode-notebook-cell:/Users/yaroslav/Desktop/diploma/code/data_exploration.ipynb#X12sZmlsZQ%3D%3D?line=4'>5</a>\u001b[0m p1 \u001b[39m=\u001b[39m res[res\u001b[39m.\u001b[39mvalve \u001b[39m==\u001b[39m v]\n\u001b[1;32m      <a href='vscode-notebook-cell:/Users/yaroslav/Desktop/diploma/code/data_exploration.ipynb#X12sZmlsZQ%3D%3D?line=5'>6</a>\u001b[0m \u001b[39m# print(v, p1[\"temp_delta\"].mean())\u001b[39;00m\n\u001b[1;32m      <a href='vscode-notebook-cell:/Users/yaroslav/Desktop/diploma/code/data_exploration.ipynb#X12sZmlsZQ%3D%3D?line=6'>7</a>\u001b[0m x \u001b[39m=\u001b[39m np\u001b[39m.\u001b[39mlinspace(p1[\u001b[39m\"\u001b[39m\u001b[39mtemp_act\u001b[39m\u001b[39m\"\u001b[39m]\u001b[39m.\u001b[39mmin(), p1[\u001b[39m\"\u001b[39m\u001b[39mtemp_act\u001b[39m\u001b[39m\"\u001b[39m]\u001b[39m.\u001b[39mmax(), \u001b[39m15\u001b[39m)\n",
      "\u001b[0;31mNameError\u001b[0m: name 'res' is not defined"
     ]
    }
   ],
   "source": [
    "import matplotlib.pyplot as plt\n",
    "import numpy as np\n",
    "v = 20\n",
    "\n",
    "p1 = res[res.valve == v]\n",
    "# print(v, p1[\"temp_delta\"].mean())\n",
    "x = np.linspace(p1[\"temp_act\"].min(), p1[\"temp_act\"].max(), 15)\n",
    "y = list(map(lambda temp: valve_effectiveness(p1, v, temp), x))\n",
    "plt.plot(x, y)\n",
    "plt.show()"
   ]
  },
  {
   "cell_type": "code",
   "execution_count": 10,
   "metadata": {},
   "outputs": [
    {
     "ename": "NameError",
     "evalue": "name 'res' is not defined",
     "output_type": "error",
     "traceback": [
      "\u001b[0;31m---------------------------------------------------------------------------\u001b[0m",
      "\u001b[0;31mNameError\u001b[0m                                 Traceback (most recent call last)",
      "\u001b[1;32m/Users/yaroslav/Desktop/diploma/code/data_exploration.ipynb Cell 11\u001b[0m in \u001b[0;36m<cell line: 3>\u001b[0;34m()\u001b[0m\n\u001b[1;32m      <a href='vscode-notebook-cell:/Users/yaroslav/Desktop/diploma/code/data_exploration.ipynb#X13sZmlsZQ%3D%3D?line=0'>1</a>\u001b[0m v \u001b[39m=\u001b[39m \u001b[39m18\u001b[39m\n\u001b[0;32m----> <a href='vscode-notebook-cell:/Users/yaroslav/Desktop/diploma/code/data_exploration.ipynb#X13sZmlsZQ%3D%3D?line=2'>3</a>\u001b[0m p1 \u001b[39m=\u001b[39m res[res\u001b[39m.\u001b[39mvalve \u001b[39m==\u001b[39m v]\n\u001b[1;32m      <a href='vscode-notebook-cell:/Users/yaroslav/Desktop/diploma/code/data_exploration.ipynb#X13sZmlsZQ%3D%3D?line=3'>4</a>\u001b[0m \u001b[39m# print(v, p1[\"temp_delta\"].mean())\u001b[39;00m\n\u001b[1;32m      <a href='vscode-notebook-cell:/Users/yaroslav/Desktop/diploma/code/data_exploration.ipynb#X13sZmlsZQ%3D%3D?line=4'>5</a>\u001b[0m x \u001b[39m=\u001b[39m np\u001b[39m.\u001b[39mlinspace(p1[\u001b[39m\"\u001b[39m\u001b[39mtemp_act\u001b[39m\u001b[39m\"\u001b[39m]\u001b[39m.\u001b[39mmin(), p1[\u001b[39m\"\u001b[39m\u001b[39mtemp_act\u001b[39m\u001b[39m\"\u001b[39m]\u001b[39m.\u001b[39mmax(), \u001b[39m10\u001b[39m)\n",
      "\u001b[0;31mNameError\u001b[0m: name 'res' is not defined"
     ]
    }
   ],
   "source": [
    "v = 18\n",
    "\n",
    "p1 = res[res.valve == v]\n",
    "# print(v, p1[\"temp_delta\"].mean())\n",
    "x = np.linspace(p1[\"temp_act\"].min(), p1[\"temp_act\"].max(), 10)\n",
    "y = list(map(lambda temp: valve_effectiveness(p1, v, temp), x))\n",
    "plt.plot(x, y)\n",
    "plt.show()"
   ]
  },
  {
   "cell_type": "code",
   "execution_count": null,
   "metadata": {},
   "outputs": [
    {
     "data": {
      "image/png": "[encoded data removed]",
      "text/plain": [
       "<Figure size 432x288 with 1 Axes>"
      ]
     },
     "metadata": {
      "needs_background": "light"
     },
     "output_type": "display_data"
    }
   ],
   "source": [
    "v = 17\n",
    "\n",
    "p1 = res[res.valve == v]\n",
    "# print(v, p1[\"temp_delta\"].mean())\n",
    "x = np.linspace(p1[\"temp_act\"].min(), p1[\"temp_act\"].max(), 15)\n",
    "y = list(map(lambda temp: valve_effectiveness(p1, v, temp), x))\n",
    "plt.plot(x, y)\n",
    "plt.show()"
   ]
  },
  {
   "cell_type": "code",
   "execution_count": null,
   "metadata": {},
   "outputs": [
    {
     "data": {
      "image/png": "[encoded data removed]",
      "text/plain": [
       "<Figure size 432x288 with 1 Axes>"
      ]
     },
     "metadata": {
      "needs_background": "light"
     },
     "output_type": "display_data"
    }
   ],
   "source": [
    "p1 = res[res.valve == 17]\n",
    "# print(v, p1[\"temp_delta\"].mean())\n",
    "plt.scatter(p1[\"temp_act\"], p1[\"temp_delta\"])\n",
    "plt.show()"
   ]
  },
  {
   "cell_type": "code",
   "execution_count": null,
   "metadata": {},
   "outputs": [
    {
     "data": {
      "text/plain": [
       "2.8510999999999997"
      ]
     },
     "execution_count": 92,
     "metadata": {},
     "output_type": "execute_result"
    }
   ],
   "source": [
    "from utils import get_cop\n",
    "get_cop(-7)"
   ]
  },
  {
   "cell_type": "code",
   "execution_count": 11,
   "metadata": {},
   "outputs": [
    {
     "data": {
      "text/plain": [
       "1.0666666666666655"
      ]
     },
     "execution_count": 11,
     "metadata": {},
     "output_type": "execute_result"
    }
   ],
   "source": [
    "from data_process import get_all_rooms\n",
    "from util import valve_effectiveness\n",
    "df = get_all_rooms(\"data-bms\")\n",
    "valve_effectiveness(df, 20, 18.8)"
   ]
  },
  {
   "cell_type": "code",
   "execution_count": 31,
   "metadata": {},
   "outputs": [
    {
     "data": {
      "image/png": "[encoded data removed]",
      "text/plain": [
       "<Figure size 432x288 with 1 Axes>"
      ]
     },
     "metadata": {
      "needs_background": "light"
     },
     "output_type": "display_data"
    }
   ],
   "source": [
    "from util import get_cop, get_temp, valve_effectiveness, valve_multiplier\n",
    "from valve_estimation import valve_line\n",
    "from data_process import get_all_rooms\n",
    "import matplotlib.pyplot as plt\n",
    "import numpy as np\n",
    "bms_data = get_all_rooms(\"data-bms\")\n",
    "v18 = bms_data[bms_data[\"valve\"] == 18]\n",
    "x = np.linspace(v18[\"temp_act\"].min(), v18[\"temp_act\"].max(), 15)\n",
    "y = list(map(lambda temp: valve_effectiveness(v18, 18, temp), x))\n",
    "# p3 = np.poly1d(np.polyfit(x, y, 1))\n",
    "plt.scatter(v18[\"temp_act\"], v18[\"temp_delta\"])\n",
    "# plt.scatter(v18[\"temp_act\"], v18[\"temp_act\"])\n",
    "plt.plot(x, y, \"r\")\n",
    "plt.plot(v18[\"temp_act\"], valve_line(bms_data)[18](v18[\"temp_act\"]), \"g\")\n",
    "plt.show()\n"
   ]
  },
  {
   "cell_type": "code",
   "execution_count": 13,
   "metadata": {},
   "outputs": [
    {
     "data": {
      "text/plain": [
       "array([0.2897322 , 0.20656089, 0.12338958, 0.04021827])"
      ]
     },
     "execution_count": 13,
     "metadata": {},
     "output_type": "execute_result"
    }
   ],
   "source": [
    "valve_line(bms_data)[18]([17, 18, 19, 20])"
   ]
  },
  {
   "cell_type": "code",
   "execution_count": 14,
   "metadata": {},
   "outputs": [
    {
     "data": {
      "image/png": "[encoded data removed]",
      "text/plain": [
       "<Figure size 432x288 with 1 Axes>"
      ]
     },
     "metadata": {
      "needs_background": "light"
     },
     "output_type": "display_data"
    }
   ],
   "source": [
    "from util import get_cop, get_temp, valve_effectiveness, valve_multiplier\n",
    "from valve_estimation import valve_line\n",
    "from data_process import get_all_rooms\n",
    "import matplotlib.pyplot as plt\n",
    "import numpy as np\n",
    "bms_data = get_all_rooms(\"data-bms\")\n",
    "v18 = bms_data[bms_data[\"valve\"] == 17]\n",
    "x = np.linspace(v18[\"temp_act\"].min(), v18[\"temp_act\"].max(), 15)\n",
    "y = list(map(lambda temp: valve_effectiveness(v18, 17, temp), x))\n",
    "# p3 = np.poly1d(np.polyfit(x, y, 1))\n",
    "# plt.scatter(v18[\"temp_act\"], v18[\"temp_delta\"])\n",
    "plt.plot(x, y, \"r\")\n",
    "plt.plot(v18[\"temp_act\"], valve_line(bms_data)[17](v18[\"temp_act\"]), \"g\")\n",
    "plt.show()\n"
   ]
  },
  {
   "cell_type": "code",
   "execution_count": 15,
   "metadata": {},
   "outputs": [
    {
     "data": {
      "text/plain": [
       "array([ 0.16674841,  0.1020502 ,  0.037352  , -0.02734621])"
      ]
     },
     "execution_count": 15,
     "metadata": {},
     "output_type": "execute_result"
    }
   ],
   "source": [
    "valve_line(bms_data)[17]([17, 18, 19, 20])"
   ]
  },
  {
   "cell_type": "code",
   "execution_count": 23,
   "metadata": {},
   "outputs": [
    {
     "name": "stdout",
     "output_type": "stream",
     "text": [
      " \n",
      "-0.04821 x + 1.037\n"
     ]
    },
    {
     "data": {
      "image/png": "[encoded data removed]",
      "text/plain": [
       "<Figure size 432x288 with 1 Axes>"
      ]
     },
     "metadata": {
      "needs_background": "light"
     },
     "output_type": "display_data"
    }
   ],
   "source": [
    "from util import get_cop, get_temp, valve_effectiveness, valve_multiplier\n",
    "from valve_estimation import valve_line\n",
    "from data_process import get_all_rooms\n",
    "import matplotlib.pyplot as plt\n",
    "import numpy as np\n",
    "bms_data = get_all_rooms(\"data-bms\")\n",
    "v18 = bms_data[bms_data[\"valve\"] == 20]\n",
    "# x = np.linspace(v18[\"temp_act\"].min(), v18[\"temp_act\"].max(), 50)\n",
    "# y = list(map(lambda temp: valve_effectiveness(v18, 20, temp), x))\n",
    "# p3 = np.poly1d(np.polyfit(x, y, 1))\n",
    "# plt.scatter(v18[\"temp_act\"], v18[\"temp_delta\"])\n",
    "plt.scatter(v18[\"temp_act\"], v18[\"temp_delta\"])\n",
    "line = np.poly1d(np.polyfit(v18[\"temp_act\"], v18[\"temp_delta\"], 1))\n",
    "print(line)\n",
    "line2 = np.poly1d([-0.09, 2.9])\n",
    "x = np.linspace(17, 25, 20)\n",
    "plt.plot(x, line(x), \"r\")\n",
    "plt.plot(x, line2(x), \"g\")\n",
    "# plt.plot(x, valve_line(bms_data)[20](x), \"g\")\n",
    "plt.show()\n"
   ]
  },
  {
   "cell_type": "code",
   "execution_count": 17,
   "metadata": {},
   "outputs": [
    {
     "name": "stdout",
     "output_type": "stream",
     "text": [
      "[ 0.16674841  0.1020502   0.037352   -0.02734621 -0.09204441 -0.15674261]\n",
      "[ 0.2897322   0.20656089  0.12338958  0.04021827 -0.04295304 -0.12612435]\n",
      "[0.91 0.74 0.57 0.4  0.23 0.06]\n"
     ]
    }
   ],
   "source": [
    "print(valve_line(bms_data)[17]([17, 18, 19, 20, 21, 22]))\n",
    "print(valve_line(bms_data)[18]([17, 18, 19, 20, 21, 22]))\n",
    "print(valve_line(bms_data)[20]([17, 18, 19, 20, 21, 22]))"
   ]
  },
  {
   "cell_type": "code",
   "execution_count": null,
   "metadata": {},
   "outputs": [
    {
     "data": {
      "text/html": [
       "<div>\n",
       "<style scoped>\n",
       "    .dataframe tbody tr th:only-of-type {\n",
       "        vertical-align: middle;\n",
       "    }\n",
       "\n",
       "    .dataframe tbody tr th {\n",
       "        vertical-align: top;\n",
       "    }\n",
       "\n",
       "    .dataframe thead th {\n",
       "        text-align: right;\n",
       "    }\n",
       "</style>\n",
       "<table border=\"1\" class=\"dataframe\">\n",
       "  <thead>\n",
       "    <tr style=\"text-align: right;\">\n",
       "      <th></th>\n",
       "      <th>time</th>\n",
       "      <th>valve</th>\n",
       "      <th>temp_act</th>\n",
       "      <th>temp_target</th>\n",
       "      <th>presence</th>\n",
       "      <th>room_id</th>\n",
       "      <th>temp</th>\n",
       "      <th>dwpt</th>\n",
       "      <th>rhum</th>\n",
       "      <th>prcp</th>\n",
       "      <th>snow</th>\n",
       "      <th>wdir</th>\n",
       "      <th>wspd</th>\n",
       "      <th>wpgt</th>\n",
       "      <th>pres</th>\n",
       "      <th>tsun</th>\n",
       "      <th>coco</th>\n",
       "      <th>next_hour_temp</th>\n",
       "      <th>temp_delta</th>\n",
       "    </tr>\n",
       "  </thead>\n",
       "  <tbody>\n",
       "    <tr>\n",
       "      <th>155</th>\n",
       "      <td>2022-12-25 05:00:00</td>\n",
       "      <td>20.0</td>\n",
       "      <td>18.8</td>\n",
       "      <td>19.0</td>\n",
       "      <td>0.0</td>\n",
       "      <td>522</td>\n",
       "      <td>6.0</td>\n",
       "      <td>5.6</td>\n",
       "      <td>97.0</td>\n",
       "      <td>0.0</td>\n",
       "      <td>NaN</td>\n",
       "      <td>284.0</td>\n",
       "      <td>16.6</td>\n",
       "      <td>NaN</td>\n",
       "      <td>1020.0</td>\n",
       "      <td>NaN</td>\n",
       "      <td>3.0</td>\n",
       "      <td>19.9</td>\n",
       "      <td>1.1</td>\n",
       "    </tr>\n",
       "    <tr>\n",
       "      <th>339</th>\n",
       "      <td>2022-12-27 03:00:00</td>\n",
       "      <td>20.0</td>\n",
       "      <td>18.9</td>\n",
       "      <td>21.0</td>\n",
       "      <td>0.0</td>\n",
       "      <td>522</td>\n",
       "      <td>8.0</td>\n",
       "      <td>6.6</td>\n",
       "      <td>91.0</td>\n",
       "      <td>0.0</td>\n",
       "      <td>NaN</td>\n",
       "      <td>263.0</td>\n",
       "      <td>13.7</td>\n",
       "      <td>NaN</td>\n",
       "      <td>1015.8</td>\n",
       "      <td>NaN</td>\n",
       "      <td>3.0</td>\n",
       "      <td>19.9</td>\n",
       "      <td>1.0</td>\n",
       "    </tr>\n",
       "  </tbody>\n",
       "</table>\n",
       "</div>"
      ],
      "text/plain": [
       "                    time  valve  temp_act  temp_target  presence room_id  \\\n",
       "155  2022-12-25 05:00:00   20.0      18.8         19.0       0.0     522   \n",
       "339  2022-12-27 03:00:00   20.0      18.9         21.0       0.0     522   \n",
       "\n",
       "     temp  dwpt  rhum  prcp  snow   wdir  wspd  wpgt    pres  tsun  coco  \\\n",
       "155   6.0   5.6  97.0   0.0   NaN  284.0  16.6   NaN  1020.0   NaN   3.0   \n",
       "339   8.0   6.6  91.0   0.0   NaN  263.0  13.7   NaN  1015.8   NaN   3.0   \n",
       "\n",
       "     next_hour_temp  temp_delta  \n",
       "155            19.9         1.1  \n",
       "339            19.9         1.0  "
      ]
     },
     "execution_count": 7,
     "metadata": {},
     "output_type": "execute_result"
    }
   ],
   "source": [
    "v18 = bms_data[bms_data[\"valve\"] == 20]\n",
    "v18[v18[\"temp_act\"] < 19]"
   ]
  },
  {
   "cell_type": "code",
   "execution_count": 28,
   "metadata": {},
   "outputs": [
    {
     "name": "stderr",
     "output_type": "stream",
     "text": [
      "/var/folders/fz/vff1xm2n6d3_nqh_0k228r9h0000gp/T/ipykernel_1037/2674563513.py:3: FutureWarning: this method is deprecated in favour of `Styler.format(precision=..)`\n",
      "  corr.style.background_gradient(cmap='coolwarm').set_precision(2)\n"
     ]
    },
    {
     "data": {
      "text/html": [
       "<style type=\"text/css\">\n",
       "#T_d4c04_row0_col0, #T_d4c04_row1_col1, #T_d4c04_row2_col2, #T_d4c04_row3_col3 {\n",
       "  background-color: #b40426;\n",
       "  color: #f1f1f1;\n",
       "}\n",
       "#T_d4c04_row0_col1 {\n",
       "  background-color: #cbd8ee;\n",
       "  color: #000000;\n",
       "}\n",
       "#T_d4c04_row0_col2 {\n",
       "  background-color: #c3d5f4;\n",
       "  color: #000000;\n",
       "}\n",
       "#T_d4c04_row0_col3 {\n",
       "  background-color: #485fd1;\n",
       "  color: #f1f1f1;\n",
       "}\n",
       "#T_d4c04_row1_col0 {\n",
       "  background-color: #ccd9ed;\n",
       "  color: #000000;\n",
       "}\n",
       "#T_d4c04_row1_col2 {\n",
       "  background-color: #f29072;\n",
       "  color: #f1f1f1;\n",
       "}\n",
       "#T_d4c04_row1_col3 {\n",
       "  background-color: #4b64d5;\n",
       "  color: #f1f1f1;\n",
       "}\n",
       "#T_d4c04_row2_col0 {\n",
       "  background-color: #bad0f8;\n",
       "  color: #000000;\n",
       "}\n",
       "#T_d4c04_row2_col1 {\n",
       "  background-color: #f39577;\n",
       "  color: #000000;\n",
       "}\n",
       "#T_d4c04_row2_col3, #T_d4c04_row3_col0, #T_d4c04_row3_col1, #T_d4c04_row3_col2 {\n",
       "  background-color: #3b4cc0;\n",
       "  color: #f1f1f1;\n",
       "}\n",
       "</style>\n",
       "<table id=\"T_d4c04\">\n",
       "  <thead>\n",
       "    <tr>\n",
       "      <th class=\"blank level0\" >&nbsp;</th>\n",
       "      <th id=\"T_d4c04_level0_col0\" class=\"col_heading level0 col0\" >temp_act</th>\n",
       "      <th id=\"T_d4c04_level0_col1\" class=\"col_heading level0 col1\" >temp_target</th>\n",
       "      <th id=\"T_d4c04_level0_col2\" class=\"col_heading level0 col2\" >presence</th>\n",
       "      <th id=\"T_d4c04_level0_col3\" class=\"col_heading level0 col3\" >temp</th>\n",
       "    </tr>\n",
       "  </thead>\n",
       "  <tbody>\n",
       "    <tr>\n",
       "      <th id=\"T_d4c04_level0_row0\" class=\"row_heading level0 row0\" >temp_act</th>\n",
       "      <td id=\"T_d4c04_row0_col0\" class=\"data row0 col0\" >1.00</td>\n",
       "      <td id=\"T_d4c04_row0_col1\" class=\"data row0 col1\" >0.45</td>\n",
       "      <td id=\"T_d4c04_row0_col2\" class=\"data row0 col2\" >0.39</td>\n",
       "      <td id=\"T_d4c04_row0_col3\" class=\"data row0 col3\" >0.01</td>\n",
       "    </tr>\n",
       "    <tr>\n",
       "      <th id=\"T_d4c04_level0_row1\" class=\"row_heading level0 row1\" >temp_target</th>\n",
       "      <td id=\"T_d4c04_row1_col0\" class=\"data row1 col0\" >0.45</td>\n",
       "      <td id=\"T_d4c04_row1_col1\" class=\"data row1 col1\" >1.00</td>\n",
       "      <td id=\"T_d4c04_row1_col2\" class=\"data row1 col2\" >0.76</td>\n",
       "      <td id=\"T_d4c04_row1_col3\" class=\"data row1 col3\" >0.02</td>\n",
       "    </tr>\n",
       "    <tr>\n",
       "      <th id=\"T_d4c04_level0_row2\" class=\"row_heading level0 row2\" >presence</th>\n",
       "      <td id=\"T_d4c04_row2_col0\" class=\"data row2 col0\" >0.39</td>\n",
       "      <td id=\"T_d4c04_row2_col1\" class=\"data row2 col1\" >0.76</td>\n",
       "      <td id=\"T_d4c04_row2_col2\" class=\"data row2 col2\" >1.00</td>\n",
       "      <td id=\"T_d4c04_row2_col3\" class=\"data row2 col3\" >-0.03</td>\n",
       "    </tr>\n",
       "    <tr>\n",
       "      <th id=\"T_d4c04_level0_row3\" class=\"row_heading level0 row3\" >temp</th>\n",
       "      <td id=\"T_d4c04_row3_col0\" class=\"data row3 col0\" >0.01</td>\n",
       "      <td id=\"T_d4c04_row3_col1\" class=\"data row3 col1\" >0.02</td>\n",
       "      <td id=\"T_d4c04_row3_col2\" class=\"data row3 col2\" >-0.03</td>\n",
       "      <td id=\"T_d4c04_row3_col3\" class=\"data row3 col3\" >1.00</td>\n",
       "    </tr>\n",
       "  </tbody>\n",
       "</table>\n"
      ],
      "text/plain": [
       "<pandas.io.formats.style.Styler at 0x7f82bcab67d0>"
      ]
     },
     "execution_count": 28,
     "metadata": {},
     "output_type": "execute_result"
    }
   ],
   "source": [
    "bms_data\n",
    "corr = bms_data[[\"temp_act\", \"temp_target\", \"presence\", \"temp\"]].corr()\n",
    "corr.style.background_gradient(cmap='coolwarm').set_precision(2)"
   ]
  },
  {
   "cell_type": "code",
   "execution_count": 30,
   "metadata": {},
   "outputs": [
    {
     "data": {
      "text/html": [
       "<div>\n",
       "<style scoped>\n",
       "    .dataframe tbody tr th:only-of-type {\n",
       "        vertical-align: middle;\n",
       "    }\n",
       "\n",
       "    .dataframe tbody tr th {\n",
       "        vertical-align: top;\n",
       "    }\n",
       "\n",
       "    .dataframe thead th {\n",
       "        text-align: right;\n",
       "    }\n",
       "</style>\n",
       "<table border=\"1\" class=\"dataframe\">\n",
       "  <thead>\n",
       "    <tr style=\"text-align: right;\">\n",
       "      <th></th>\n",
       "      <th>temp_act</th>\n",
       "      <th>temp_target</th>\n",
       "      <th>presence</th>\n",
       "      <th>temp</th>\n",
       "      <th>valve</th>\n",
       "    </tr>\n",
       "  </thead>\n",
       "  <tbody>\n",
       "    <tr>\n",
       "      <th>count</th>\n",
       "      <td>1079.000000</td>\n",
       "      <td>1079.000000</td>\n",
       "      <td>1079.000000</td>\n",
       "      <td>1079.000000</td>\n",
       "      <td>1079.000000</td>\n",
       "    </tr>\n",
       "    <tr>\n",
       "      <th>mean</th>\n",
       "      <td>20.813809</td>\n",
       "      <td>21.222428</td>\n",
       "      <td>4.515292</td>\n",
       "      <td>7.424467</td>\n",
       "      <td>19.177016</td>\n",
       "    </tr>\n",
       "    <tr>\n",
       "      <th>std</th>\n",
       "      <td>0.867708</td>\n",
       "      <td>0.968242</td>\n",
       "      <td>9.795284</td>\n",
       "      <td>2.825066</td>\n",
       "      <td>1.180072</td>\n",
       "    </tr>\n",
       "    <tr>\n",
       "      <th>min</th>\n",
       "      <td>18.800000</td>\n",
       "      <td>19.000000</td>\n",
       "      <td>0.000000</td>\n",
       "      <td>0.700000</td>\n",
       "      <td>17.000000</td>\n",
       "    </tr>\n",
       "    <tr>\n",
       "      <th>25%</th>\n",
       "      <td>20.200000</td>\n",
       "      <td>21.000000</td>\n",
       "      <td>0.000000</td>\n",
       "      <td>5.500000</td>\n",
       "      <td>18.000000</td>\n",
       "    </tr>\n",
       "    <tr>\n",
       "      <th>50%</th>\n",
       "      <td>20.900000</td>\n",
       "      <td>21.000000</td>\n",
       "      <td>0.000000</td>\n",
       "      <td>7.100000</td>\n",
       "      <td>20.000000</td>\n",
       "    </tr>\n",
       "    <tr>\n",
       "      <th>75%</th>\n",
       "      <td>21.200000</td>\n",
       "      <td>21.000000</td>\n",
       "      <td>0.000000</td>\n",
       "      <td>9.600000</td>\n",
       "      <td>20.000000</td>\n",
       "    </tr>\n",
       "    <tr>\n",
       "      <th>max</th>\n",
       "      <td>24.700000</td>\n",
       "      <td>23.000000</td>\n",
       "      <td>30.000000</td>\n",
       "      <td>14.700000</td>\n",
       "      <td>20.000000</td>\n",
       "    </tr>\n",
       "  </tbody>\n",
       "</table>\n",
       "</div>"
      ],
      "text/plain": [
       "          temp_act  temp_target     presence         temp        valve\n",
       "count  1079.000000  1079.000000  1079.000000  1079.000000  1079.000000\n",
       "mean     20.813809    21.222428     4.515292     7.424467    19.177016\n",
       "std       0.867708     0.968242     9.795284     2.825066     1.180072\n",
       "min      18.800000    19.000000     0.000000     0.700000    17.000000\n",
       "25%      20.200000    21.000000     0.000000     5.500000    18.000000\n",
       "50%      20.900000    21.000000     0.000000     7.100000    20.000000\n",
       "75%      21.200000    21.000000     0.000000     9.600000    20.000000\n",
       "max      24.700000    23.000000    30.000000    14.700000    20.000000"
      ]
     },
     "execution_count": 30,
     "metadata": {},
     "output_type": "execute_result"
    }
   ],
   "source": [
    "bms_data[[\"temp_act\", \"temp_target\", \"presence\", \"temp\", \"valve\"]].describe()"
   ]
  },
  {
   "cell_type": "code",
   "execution_count": null,
   "metadata": {},
   "outputs": [],
   "source": []
  }
 ],
 "metadata": {
  "kernelspec": {
   "display_name": "diploma_env",
   "language": "python",
   "name": "diploma_env"
  },
  "language_info": {
   "codemirror_mode": {
    "name": "ipython",
    "version": 3
   },
   "file_extension": ".py",
   "mimetype": "text/x-python",
   "name": "python",
   "nbconvert_exporter": "python",
   "pygments_lexer": "ipython3",
   "version": "3.10.10"
  },
  "orig_nbformat": 4
 },
 "nbformat": 4,
 "nbformat_minor": 2
}
