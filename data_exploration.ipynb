{
 "cells": [
  {
   "cell_type": "code",
   "execution_count": 1,
   "metadata": {},
   "outputs": [],
   "source": [
    "import pandas as pd\n",
    "import altair as alt\n",
    "import os"
   ]
  },
  {
   "cell_type": "code",
   "execution_count": 4,
   "metadata": {},
   "outputs": [
    {
     "data": {
      "text/plain": [
       "['52', '520', '522', '524']"
      ]
     },
     "execution_count": 4,
     "metadata": {},
     "output_type": "execute_result"
    }
   ],
   "source": [
    "room_ids = set([x.split(\"_\")[0] for x in os.listdir(\"data-bms\")])\n",
    "room_ids = list(filter(lambda x: \".\" not in x, room_ids))\n",
    "room_ids"
   ]
  },
  {
   "cell_type": "code",
   "execution_count": 8,
   "metadata": {},
   "outputs": [
    {
     "data": {
      "text/html": [
       "<div>\n",
       "<style scoped>\n",
       "    .dataframe tbody tr th:only-of-type {\n",
       "        vertical-align: middle;\n",
       "    }\n",
       "\n",
       "    .dataframe tbody tr th {\n",
       "        vertical-align: top;\n",
       "    }\n",
       "\n",
       "    .dataframe thead th {\n",
       "        text-align: right;\n",
       "    }\n",
       "</style>\n",
       "<table border=\"1\" class=\"dataframe\">\n",
       "  <thead>\n",
       "    <tr style=\"text-align: right;\">\n",
       "      <th></th>\n",
       "      <th>time</th>\n",
       "      <th>valve</th>\n",
       "      <th>temp_act</th>\n",
       "      <th>temp_target</th>\n",
       "      <th>presence</th>\n",
       "      <th>room_id</th>\n",
       "    </tr>\n",
       "  </thead>\n",
       "  <tbody>\n",
       "    <tr>\n",
       "      <th>0</th>\n",
       "      <td>2022-12-23 14:00:00+00:00</td>\n",
       "      <td>20.0</td>\n",
       "      <td>22.9</td>\n",
       "      <td>23.0</td>\n",
       "      <td>30.0</td>\n",
       "      <td>52</td>\n",
       "    </tr>\n",
       "    <tr>\n",
       "      <th>1</th>\n",
       "      <td>2022-12-23 15:00:00+00:00</td>\n",
       "      <td>20.0</td>\n",
       "      <td>22.7</td>\n",
       "      <td>23.0</td>\n",
       "      <td>30.0</td>\n",
       "      <td>52</td>\n",
       "    </tr>\n",
       "    <tr>\n",
       "      <th>2</th>\n",
       "      <td>2022-12-23 16:00:00+00:00</td>\n",
       "      <td>20.0</td>\n",
       "      <td>22.7</td>\n",
       "      <td>23.0</td>\n",
       "      <td>30.0</td>\n",
       "      <td>52</td>\n",
       "    </tr>\n",
       "    <tr>\n",
       "      <th>3</th>\n",
       "      <td>2022-12-23 17:00:00+00:00</td>\n",
       "      <td>17.0</td>\n",
       "      <td>22.3</td>\n",
       "      <td>21.0</td>\n",
       "      <td>0.0</td>\n",
       "      <td>52</td>\n",
       "    </tr>\n",
       "    <tr>\n",
       "      <th>4</th>\n",
       "      <td>2022-12-23 18:00:00+00:00</td>\n",
       "      <td>20.0</td>\n",
       "      <td>22.2</td>\n",
       "      <td>23.0</td>\n",
       "      <td>8.0</td>\n",
       "      <td>52</td>\n",
       "    </tr>\n",
       "    <tr>\n",
       "      <th>...</th>\n",
       "      <td>...</td>\n",
       "      <td>...</td>\n",
       "      <td>...</td>\n",
       "      <td>...</td>\n",
       "      <td>...</td>\n",
       "      <td>...</td>\n",
       "    </tr>\n",
       "    <tr>\n",
       "      <th>266</th>\n",
       "      <td>2023-01-03 16:00:00+00:00</td>\n",
       "      <td>18.0</td>\n",
       "      <td>21.7</td>\n",
       "      <td>21.0</td>\n",
       "      <td>0.0</td>\n",
       "      <td>524</td>\n",
       "    </tr>\n",
       "    <tr>\n",
       "      <th>267</th>\n",
       "      <td>2023-01-03 17:00:00+00:00</td>\n",
       "      <td>18.0</td>\n",
       "      <td>21.1</td>\n",
       "      <td>21.0</td>\n",
       "      <td>0.0</td>\n",
       "      <td>524</td>\n",
       "    </tr>\n",
       "    <tr>\n",
       "      <th>268</th>\n",
       "      <td>2023-01-03 18:00:00+00:00</td>\n",
       "      <td>18.0</td>\n",
       "      <td>21.3</td>\n",
       "      <td>21.0</td>\n",
       "      <td>0.0</td>\n",
       "      <td>524</td>\n",
       "    </tr>\n",
       "    <tr>\n",
       "      <th>269</th>\n",
       "      <td>2023-01-03 19:00:00+00:00</td>\n",
       "      <td>20.0</td>\n",
       "      <td>20.9</td>\n",
       "      <td>21.0</td>\n",
       "      <td>0.0</td>\n",
       "      <td>524</td>\n",
       "    </tr>\n",
       "    <tr>\n",
       "      <th>270</th>\n",
       "      <td>2023-01-03 20:00:00+00:00</td>\n",
       "      <td>18.0</td>\n",
       "      <td>21.1</td>\n",
       "      <td>21.0</td>\n",
       "      <td>0.0</td>\n",
       "      <td>524</td>\n",
       "    </tr>\n",
       "  </tbody>\n",
       "</table>\n",
       "<p>1083 rows × 6 columns</p>\n",
       "</div>"
      ],
      "text/plain": [
       "                          time  valve  temp_act  temp_target  presence room_id\n",
       "0    2022-12-23 14:00:00+00:00   20.0      22.9         23.0      30.0      52\n",
       "1    2022-12-23 15:00:00+00:00   20.0      22.7         23.0      30.0      52\n",
       "2    2022-12-23 16:00:00+00:00   20.0      22.7         23.0      30.0      52\n",
       "3    2022-12-23 17:00:00+00:00   17.0      22.3         21.0       0.0      52\n",
       "4    2022-12-23 18:00:00+00:00   20.0      22.2         23.0       8.0      52\n",
       "..                         ...    ...       ...          ...       ...     ...\n",
       "266  2023-01-03 16:00:00+00:00   18.0      21.7         21.0       0.0     524\n",
       "267  2023-01-03 17:00:00+00:00   18.0      21.1         21.0       0.0     524\n",
       "268  2023-01-03 18:00:00+00:00   18.0      21.3         21.0       0.0     524\n",
       "269  2023-01-03 19:00:00+00:00   20.0      20.9         21.0       0.0     524\n",
       "270  2023-01-03 20:00:00+00:00   18.0      21.1         21.0       0.0     524\n",
       "\n",
       "[1083 rows x 6 columns]"
      ]
     },
     "execution_count": 8,
     "metadata": {},
     "output_type": "execute_result"
    }
   ],
   "source": [
    "room_df = pd.concat([get_room_df(room) for room in room_ids])\n",
    "room_df"
   ]
  },
  {
   "cell_type": "code",
   "execution_count": 21,
   "metadata": {},
   "outputs": [],
   "source": [
    "weather_df = pd.read_csv(\"data-bms/weather.csv\")\n",
    "room_df.time = pd.to_datetime(room_df.time).dt.strftime('%Y-%m-%d %H:%M:%S')\n",
    "weather_df.time = pd.to_datetime(weather_df.time).dt.strftime('%Y-%m-%d %H:%M:%S')\n"
   ]
  },
  {
   "cell_type": "code",
   "execution_count": 66,
   "metadata": {},
   "outputs": [
    {
     "data": {
      "text/html": [
       "<div>\n",
       "<style scoped>\n",
       "    .dataframe tbody tr th:only-of-type {\n",
       "        vertical-align: middle;\n",
       "    }\n",
       "\n",
       "    .dataframe tbody tr th {\n",
       "        vertical-align: top;\n",
       "    }\n",
       "\n",
       "    .dataframe thead th {\n",
       "        text-align: right;\n",
       "    }\n",
       "</style>\n",
       "<table border=\"1\" class=\"dataframe\">\n",
       "  <thead>\n",
       "    <tr style=\"text-align: right;\">\n",
       "      <th></th>\n",
       "      <th>time</th>\n",
       "      <th>valve</th>\n",
       "      <th>temp_act</th>\n",
       "      <th>temp_target</th>\n",
       "      <th>presence</th>\n",
       "      <th>room_id</th>\n",
       "      <th>temp</th>\n",
       "      <th>dwpt</th>\n",
       "      <th>rhum</th>\n",
       "      <th>prcp</th>\n",
       "      <th>snow</th>\n",
       "      <th>wdir</th>\n",
       "      <th>wspd</th>\n",
       "      <th>wpgt</th>\n",
       "      <th>pres</th>\n",
       "      <th>tsun</th>\n",
       "      <th>coco</th>\n",
       "      <th>next_hour_temp</th>\n",
       "      <th>temp_delta</th>\n",
       "    </tr>\n",
       "  </thead>\n",
       "  <tbody>\n",
       "    <tr>\n",
       "      <th>0</th>\n",
       "      <td>2022-12-23 14:00:00</td>\n",
       "      <td>20.0</td>\n",
       "      <td>22.9</td>\n",
       "      <td>23.0</td>\n",
       "      <td>30.0</td>\n",
       "      <td>52</td>\n",
       "      <td>7.4</td>\n",
       "      <td>5.6</td>\n",
       "      <td>88.0</td>\n",
       "      <td>0.0</td>\n",
       "      <td>NaN</td>\n",
       "      <td>230.0</td>\n",
       "      <td>14.0</td>\n",
       "      <td>NaN</td>\n",
       "      <td>1010.2</td>\n",
       "      <td>NaN</td>\n",
       "      <td>3.0</td>\n",
       "      <td>22.7</td>\n",
       "      <td>-0.2</td>\n",
       "    </tr>\n",
       "    <tr>\n",
       "      <th>1</th>\n",
       "      <td>2022-12-23 14:00:00</td>\n",
       "      <td>20.0</td>\n",
       "      <td>20.1</td>\n",
       "      <td>23.0</td>\n",
       "      <td>30.0</td>\n",
       "      <td>522</td>\n",
       "      <td>7.4</td>\n",
       "      <td>5.6</td>\n",
       "      <td>88.0</td>\n",
       "      <td>0.0</td>\n",
       "      <td>NaN</td>\n",
       "      <td>230.0</td>\n",
       "      <td>14.0</td>\n",
       "      <td>NaN</td>\n",
       "      <td>1010.2</td>\n",
       "      <td>NaN</td>\n",
       "      <td>3.0</td>\n",
       "      <td>20.2</td>\n",
       "      <td>0.1</td>\n",
       "    </tr>\n",
       "    <tr>\n",
       "      <th>2</th>\n",
       "      <td>2022-12-23 14:00:00</td>\n",
       "      <td>20.0</td>\n",
       "      <td>21.0</td>\n",
       "      <td>21.0</td>\n",
       "      <td>0.0</td>\n",
       "      <td>524</td>\n",
       "      <td>7.4</td>\n",
       "      <td>5.6</td>\n",
       "      <td>88.0</td>\n",
       "      <td>0.0</td>\n",
       "      <td>NaN</td>\n",
       "      <td>230.0</td>\n",
       "      <td>14.0</td>\n",
       "      <td>NaN</td>\n",
       "      <td>1010.2</td>\n",
       "      <td>NaN</td>\n",
       "      <td>3.0</td>\n",
       "      <td>21.2</td>\n",
       "      <td>0.2</td>\n",
       "    </tr>\n",
       "    <tr>\n",
       "      <th>3</th>\n",
       "      <td>2022-12-23 15:00:00</td>\n",
       "      <td>20.0</td>\n",
       "      <td>22.7</td>\n",
       "      <td>23.0</td>\n",
       "      <td>30.0</td>\n",
       "      <td>52</td>\n",
       "      <td>7.1</td>\n",
       "      <td>5.6</td>\n",
       "      <td>90.0</td>\n",
       "      <td>0.0</td>\n",
       "      <td>NaN</td>\n",
       "      <td>226.0</td>\n",
       "      <td>13.3</td>\n",
       "      <td>NaN</td>\n",
       "      <td>1010.2</td>\n",
       "      <td>NaN</td>\n",
       "      <td>3.0</td>\n",
       "      <td>22.7</td>\n",
       "      <td>0.0</td>\n",
       "    </tr>\n",
       "    <tr>\n",
       "      <th>4</th>\n",
       "      <td>2022-12-23 15:00:00</td>\n",
       "      <td>20.0</td>\n",
       "      <td>20.4</td>\n",
       "      <td>21.0</td>\n",
       "      <td>0.0</td>\n",
       "      <td>520</td>\n",
       "      <td>7.1</td>\n",
       "      <td>5.6</td>\n",
       "      <td>90.0</td>\n",
       "      <td>0.0</td>\n",
       "      <td>NaN</td>\n",
       "      <td>226.0</td>\n",
       "      <td>13.3</td>\n",
       "      <td>NaN</td>\n",
       "      <td>1010.2</td>\n",
       "      <td>NaN</td>\n",
       "      <td>3.0</td>\n",
       "      <td>20.7</td>\n",
       "      <td>0.3</td>\n",
       "    </tr>\n",
       "    <tr>\n",
       "      <th>...</th>\n",
       "      <td>...</td>\n",
       "      <td>...</td>\n",
       "      <td>...</td>\n",
       "      <td>...</td>\n",
       "      <td>...</td>\n",
       "      <td>...</td>\n",
       "      <td>...</td>\n",
       "      <td>...</td>\n",
       "      <td>...</td>\n",
       "      <td>...</td>\n",
       "      <td>...</td>\n",
       "      <td>...</td>\n",
       "      <td>...</td>\n",
       "      <td>...</td>\n",
       "      <td>...</td>\n",
       "      <td>...</td>\n",
       "      <td>...</td>\n",
       "      <td>...</td>\n",
       "      <td>...</td>\n",
       "    </tr>\n",
       "    <tr>\n",
       "      <th>1074</th>\n",
       "      <td>2023-01-03 18:00:00</td>\n",
       "      <td>18.0</td>\n",
       "      <td>21.3</td>\n",
       "      <td>21.0</td>\n",
       "      <td>0.0</td>\n",
       "      <td>524</td>\n",
       "      <td>6.7</td>\n",
       "      <td>5.7</td>\n",
       "      <td>93.0</td>\n",
       "      <td>0.0</td>\n",
       "      <td>NaN</td>\n",
       "      <td>280.0</td>\n",
       "      <td>15.1</td>\n",
       "      <td>NaN</td>\n",
       "      <td>1028.1</td>\n",
       "      <td>NaN</td>\n",
       "      <td>3.0</td>\n",
       "      <td>20.9</td>\n",
       "      <td>-0.4</td>\n",
       "    </tr>\n",
       "    <tr>\n",
       "      <th>1075</th>\n",
       "      <td>2023-01-03 19:00:00</td>\n",
       "      <td>18.0</td>\n",
       "      <td>22.5</td>\n",
       "      <td>21.0</td>\n",
       "      <td>0.0</td>\n",
       "      <td>52</td>\n",
       "      <td>6.5</td>\n",
       "      <td>5.5</td>\n",
       "      <td>93.0</td>\n",
       "      <td>0.0</td>\n",
       "      <td>NaN</td>\n",
       "      <td>284.0</td>\n",
       "      <td>15.5</td>\n",
       "      <td>NaN</td>\n",
       "      <td>1028.5</td>\n",
       "      <td>NaN</td>\n",
       "      <td>3.0</td>\n",
       "      <td>22.2</td>\n",
       "      <td>-0.3</td>\n",
       "    </tr>\n",
       "    <tr>\n",
       "      <th>1076</th>\n",
       "      <td>2023-01-03 19:00:00</td>\n",
       "      <td>18.0</td>\n",
       "      <td>21.3</td>\n",
       "      <td>21.0</td>\n",
       "      <td>0.0</td>\n",
       "      <td>520</td>\n",
       "      <td>6.5</td>\n",
       "      <td>5.5</td>\n",
       "      <td>93.0</td>\n",
       "      <td>0.0</td>\n",
       "      <td>NaN</td>\n",
       "      <td>284.0</td>\n",
       "      <td>15.5</td>\n",
       "      <td>NaN</td>\n",
       "      <td>1028.5</td>\n",
       "      <td>NaN</td>\n",
       "      <td>3.0</td>\n",
       "      <td>21.0</td>\n",
       "      <td>-0.3</td>\n",
       "    </tr>\n",
       "    <tr>\n",
       "      <th>1077</th>\n",
       "      <td>2023-01-03 19:00:00</td>\n",
       "      <td>20.0</td>\n",
       "      <td>21.0</td>\n",
       "      <td>21.0</td>\n",
       "      <td>0.0</td>\n",
       "      <td>522</td>\n",
       "      <td>6.5</td>\n",
       "      <td>5.5</td>\n",
       "      <td>93.0</td>\n",
       "      <td>0.0</td>\n",
       "      <td>NaN</td>\n",
       "      <td>284.0</td>\n",
       "      <td>15.5</td>\n",
       "      <td>NaN</td>\n",
       "      <td>1028.5</td>\n",
       "      <td>NaN</td>\n",
       "      <td>3.0</td>\n",
       "      <td>20.7</td>\n",
       "      <td>-0.3</td>\n",
       "    </tr>\n",
       "    <tr>\n",
       "      <th>1078</th>\n",
       "      <td>2023-01-03 19:00:00</td>\n",
       "      <td>20.0</td>\n",
       "      <td>20.9</td>\n",
       "      <td>21.0</td>\n",
       "      <td>0.0</td>\n",
       "      <td>524</td>\n",
       "      <td>6.5</td>\n",
       "      <td>5.5</td>\n",
       "      <td>93.0</td>\n",
       "      <td>0.0</td>\n",
       "      <td>NaN</td>\n",
       "      <td>284.0</td>\n",
       "      <td>15.5</td>\n",
       "      <td>NaN</td>\n",
       "      <td>1028.5</td>\n",
       "      <td>NaN</td>\n",
       "      <td>3.0</td>\n",
       "      <td>21.1</td>\n",
       "      <td>0.2</td>\n",
       "    </tr>\n",
       "  </tbody>\n",
       "</table>\n",
       "<p>1079 rows × 19 columns</p>\n",
       "</div>"
      ],
      "text/plain": [
       "                     time  valve  temp_act  temp_target  presence room_id  \\\n",
       "0     2022-12-23 14:00:00   20.0      22.9         23.0      30.0      52   \n",
       "1     2022-12-23 14:00:00   20.0      20.1         23.0      30.0     522   \n",
       "2     2022-12-23 14:00:00   20.0      21.0         21.0       0.0     524   \n",
       "3     2022-12-23 15:00:00   20.0      22.7         23.0      30.0      52   \n",
       "4     2022-12-23 15:00:00   20.0      20.4         21.0       0.0     520   \n",
       "...                   ...    ...       ...          ...       ...     ...   \n",
       "1074  2023-01-03 18:00:00   18.0      21.3         21.0       0.0     524   \n",
       "1075  2023-01-03 19:00:00   18.0      22.5         21.0       0.0      52   \n",
       "1076  2023-01-03 19:00:00   18.0      21.3         21.0       0.0     520   \n",
       "1077  2023-01-03 19:00:00   20.0      21.0         21.0       0.0     522   \n",
       "1078  2023-01-03 19:00:00   20.0      20.9         21.0       0.0     524   \n",
       "\n",
       "      temp  dwpt  rhum  prcp  snow   wdir  wspd  wpgt    pres  tsun  coco  \\\n",
       "0      7.4   5.6  88.0   0.0   NaN  230.0  14.0   NaN  1010.2   NaN   3.0   \n",
       "1      7.4   5.6  88.0   0.0   NaN  230.0  14.0   NaN  1010.2   NaN   3.0   \n",
       "2      7.4   5.6  88.0   0.0   NaN  230.0  14.0   NaN  1010.2   NaN   3.0   \n",
       "3      7.1   5.6  90.0   0.0   NaN  226.0  13.3   NaN  1010.2   NaN   3.0   \n",
       "4      7.1   5.6  90.0   0.0   NaN  226.0  13.3   NaN  1010.2   NaN   3.0   \n",
       "...    ...   ...   ...   ...   ...    ...   ...   ...     ...   ...   ...   \n",
       "1074   6.7   5.7  93.0   0.0   NaN  280.0  15.1   NaN  1028.1   NaN   3.0   \n",
       "1075   6.5   5.5  93.0   0.0   NaN  284.0  15.5   NaN  1028.5   NaN   3.0   \n",
       "1076   6.5   5.5  93.0   0.0   NaN  284.0  15.5   NaN  1028.5   NaN   3.0   \n",
       "1077   6.5   5.5  93.0   0.0   NaN  284.0  15.5   NaN  1028.5   NaN   3.0   \n",
       "1078   6.5   5.5  93.0   0.0   NaN  284.0  15.5   NaN  1028.5   NaN   3.0   \n",
       "\n",
       "      next_hour_temp  temp_delta  \n",
       "0               22.7        -0.2  \n",
       "1               20.2         0.1  \n",
       "2               21.2         0.2  \n",
       "3               22.7         0.0  \n",
       "4               20.7         0.3  \n",
       "...              ...         ...  \n",
       "1074            20.9        -0.4  \n",
       "1075            22.2        -0.3  \n",
       "1076            21.0        -0.3  \n",
       "1077            20.7        -0.3  \n",
       "1078            21.1         0.2  \n",
       "\n",
       "[1079 rows x 19 columns]"
      ]
     },
     "execution_count": 66,
     "metadata": {},
     "output_type": "execute_result"
    }
   ],
   "source": [
    "df = pd.merge(room_df, weather_df, on=\"time\")\n",
    "lst = []\n"
   ]
  },
  {
   "cell_type": "code",
   "execution_count": 69,
   "metadata": {},
   "outputs": [
    {
     "name": "stdout",
     "output_type": "stream",
     "text": [
      "17 -0.5164473684210528\n",
      "18 -0.4375000000000003\n",
      "20 0.8634317862165964\n"
     ]
    },
    {
     "name": "stderr",
     "output_type": "stream",
     "text": [
      "/var/folders/fz/vff1xm2n6d3_nqh_0k228r9h0000gp/T/ipykernel_3349/345765058.py:3: SettingWithCopyWarning: \n",
      "A value is trying to be set on a copy of a slice from a DataFrame.\n",
      "Try using .loc[row_indexer,col_indexer] = value instead\n",
      "\n",
      "See the caveats in the documentation: https://pandas.pydata.org/pandas-docs/stable/user_guide/indexing.html#returning-a-view-versus-a-copy\n",
      "  p1[\"diff\"] = p1.temp_target - p1.temp_act\n",
      "/var/folders/fz/vff1xm2n6d3_nqh_0k228r9h0000gp/T/ipykernel_3349/345765058.py:3: SettingWithCopyWarning: \n",
      "A value is trying to be set on a copy of a slice from a DataFrame.\n",
      "Try using .loc[row_indexer,col_indexer] = value instead\n",
      "\n",
      "See the caveats in the documentation: https://pandas.pydata.org/pandas-docs/stable/user_guide/indexing.html#returning-a-view-versus-a-copy\n",
      "  p1[\"diff\"] = p1.temp_target - p1.temp_act\n",
      "/var/folders/fz/vff1xm2n6d3_nqh_0k228r9h0000gp/T/ipykernel_3349/345765058.py:3: SettingWithCopyWarning: \n",
      "A value is trying to be set on a copy of a slice from a DataFrame.\n",
      "Try using .loc[row_indexer,col_indexer] = value instead\n",
      "\n",
      "See the caveats in the documentation: https://pandas.pydata.org/pandas-docs/stable/user_guide/indexing.html#returning-a-view-versus-a-copy\n",
      "  p1[\"diff\"] = p1.temp_target - p1.temp_act\n"
     ]
    }
   ],
   "source": [
    "for v in [17, 18, 20]:\n",
    "    p1 = res[res.valve == v]\n",
    "    p1[\"diff\"] = p1.temp_target - p1.temp_act\n",
    "    print(v, p1[\"diff\"].mean())"
   ]
  },
  {
   "cell_type": "code",
   "execution_count": 70,
   "metadata": {},
   "outputs": [
    {
     "name": "stdout",
     "output_type": "stream",
     "text": [
      "17 -0.06842105263157904\n",
      "18 -0.08935185185185206\n",
      "20 0.04261603375527434\n"
     ]
    }
   ],
   "source": [
    "for v in [17, 18, 20]:\n",
    "    p1 = res[res.valve == v]\n",
    "    print(v, p1[\"temp_delta\"].mean())"
   ]
  },
  {
   "cell_type": "code",
   "execution_count": 57,
   "metadata": {},
   "outputs": [
    {
     "data": {
      "text/html": [
       "<div>\n",
       "<style scoped>\n",
       "    .dataframe tbody tr th:only-of-type {\n",
       "        vertical-align: middle;\n",
       "    }\n",
       "\n",
       "    .dataframe tbody tr th {\n",
       "        vertical-align: top;\n",
       "    }\n",
       "\n",
       "    .dataframe thead th {\n",
       "        text-align: right;\n",
       "    }\n",
       "</style>\n",
       "<table border=\"1\" class=\"dataframe\">\n",
       "  <thead>\n",
       "    <tr style=\"text-align: right;\">\n",
       "      <th></th>\n",
       "      <th>time</th>\n",
       "      <th>valve</th>\n",
       "      <th>temp_act</th>\n",
       "      <th>temp_target</th>\n",
       "      <th>presence</th>\n",
       "      <th>room_id</th>\n",
       "      <th>temp</th>\n",
       "      <th>dwpt</th>\n",
       "      <th>rhum</th>\n",
       "      <th>prcp</th>\n",
       "      <th>snow</th>\n",
       "      <th>wdir</th>\n",
       "      <th>wspd</th>\n",
       "      <th>wpgt</th>\n",
       "      <th>pres</th>\n",
       "      <th>tsun</th>\n",
       "      <th>coco</th>\n",
       "      <th>next_hour_temp</th>\n",
       "    </tr>\n",
       "  </thead>\n",
       "  <tbody>\n",
       "  </tbody>\n",
       "</table>\n",
       "</div>"
      ],
      "text/plain": [
       "Empty DataFrame\n",
       "Columns: [time, valve, temp_act, temp_target, presence, room_id, temp, dwpt, rhum, prcp, snow, wdir, wspd, wpgt, pres, tsun, coco, next_hour_temp]\n",
       "Index: []"
      ]
     },
     "execution_count": 57,
     "metadata": {},
     "output_type": "execute_result"
    }
   ],
   "source": [
    "res[res.temp_act != res.next_hour_temp]"
   ]
  },
  {
   "cell_type": "code",
   "execution_count": 78,
   "metadata": {},
   "outputs": [],
   "source": []
  },
  {
   "cell_type": "code",
   "execution_count": 79,
   "metadata": {},
   "outputs": [
    {
     "data": {
      "image/png": "[encoded data removed]",
      "text/plain": [
       "<Figure size 432x288 with 1 Axes>"
      ]
     },
     "metadata": {
      "needs_background": "light"
     },
     "output_type": "display_data"
    }
   ],
   "source": [
    "import matplotlib.pyplot as plt\n",
    "import numpy as np\n",
    "v = 20\n",
    "\n",
    "p1 = res[res.valve == v]\n",
    "# print(v, p1[\"temp_delta\"].mean())\n",
    "x = np.linspace(p1[\"temp_act\"].min(), p1[\"temp_act\"].max(), 15)\n",
    "y = list(map(lambda temp: valve_effectiveness(p1, v, temp), x))\n",
    "plt.plot(x, y)\n",
    "plt.show()"
   ]
  },
  {
   "cell_type": "code",
   "execution_count": 87,
   "metadata": {},
   "outputs": [
    {
     "data": {
      "image/png": "[encoded data removed]",
      "text/plain": [
       "<Figure size 432x288 with 1 Axes>"
      ]
     },
     "metadata": {
      "needs_background": "light"
     },
     "output_type": "display_data"
    }
   ],
   "source": [
    "v = 18\n",
    "\n",
    "p1 = res[res.valve == v]\n",
    "# print(v, p1[\"temp_delta\"].mean())\n",
    "x = np.linspace(p1[\"temp_act\"].min(), p1[\"temp_act\"].max(), 10)\n",
    "y = list(map(lambda temp: valve_effectiveness(p1, v, temp), x))\n",
    "plt.plot(x, y)\n",
    "plt.show()"
   ]
  },
  {
   "cell_type": "code",
   "execution_count": 84,
   "metadata": {},
   "outputs": [
    {
     "data": {
      "image/png": "[encoded data removed]",
      "text/plain": [
       "<Figure size 432x288 with 1 Axes>"
      ]
     },
     "metadata": {
      "needs_background": "light"
     },
     "output_type": "display_data"
    }
   ],
   "source": [
    "v = 17\n",
    "\n",
    "p1 = res[res.valve == v]\n",
    "# print(v, p1[\"temp_delta\"].mean())\n",
    "x = np.linspace(p1[\"temp_act\"].min(), p1[\"temp_act\"].max(), 15)\n",
    "y = list(map(lambda temp: valve_effectiveness(p1, v, temp), x))\n",
    "plt.plot(x, y)\n",
    "plt.show()"
   ]
  },
  {
   "cell_type": "code",
   "execution_count": 74,
   "metadata": {},
   "outputs": [
    {
     "data": {
      "image/png": "[encoded data removed]",
      "text/plain": [
       "<Figure size 432x288 with 1 Axes>"
      ]
     },
     "metadata": {
      "needs_background": "light"
     },
     "output_type": "display_data"
    }
   ],
   "source": [
    "p1 = res[res.valve == 17]\n",
    "# print(v, p1[\"temp_delta\"].mean())\n",
    "plt.scatter(p1[\"temp_act\"], p1[\"temp_delta\"])\n",
    "plt.show()"
   ]
  },
  {
   "cell_type": "code",
   "execution_count": 92,
   "metadata": {},
   "outputs": [
    {
     "data": {
      "text/plain": [
       "2.8510999999999997"
      ]
     },
     "execution_count": 92,
     "metadata": {},
     "output_type": "execute_result"
    }
   ],
   "source": [
    "from utils import get_cop\n",
    "get_cop(-7)"
   ]
  },
  {
   "cell_type": "code",
   "execution_count": 10,
   "metadata": {},
   "outputs": [
    {
     "data": {
      "text/plain": [
       "1.0249999999999995"
      ]
     },
     "execution_count": 10,
     "metadata": {},
     "output_type": "execute_result"
    }
   ],
   "source": [
    "from data_process import get_all_rooms\n",
    "from util import valve_effectiveness\n",
    "df = get_all_rooms(\"data-bms\")\n",
    "valve_effectiveness(df, 20, 18.8)"
   ]
  },
  {
   "cell_type": "code",
   "execution_count": 3,
   "metadata": {},
   "outputs": [
    {
     "data": {
      "image/png": "[encoded data removed]",
      "text/plain": [
       "<Figure size 432x288 with 1 Axes>"
      ]
     },
     "metadata": {
      "needs_background": "light"
     },
     "output_type": "display_data"
    }
   ],
   "source": [
    "from util import get_cop, get_temp, valve_effectiveness, valve_multiplier\n",
    "from valve_estimation import valve_line\n",
    "from data_process import get_all_rooms\n",
    "import matplotlib.pyplot as plt\n",
    "import numpy as np\n",
    "bms_data = get_all_rooms(\"data-bms\")\n",
    "v18 = bms_data[bms_data[\"valve\"] == 18]\n",
    "x = np.linspace(v18[\"temp_act\"].min(), v18[\"temp_act\"].max(), 15)\n",
    "y = list(map(lambda temp: valve_effectiveness(v18, 18, temp), x))\n",
    "# p3 = np.poly1d(np.polyfit(x, y, 1))\n",
    "# plt.scatter(v18[\"temp_act\"], v18[\"temp_delta\"])\n",
    "plt.plot(x, y, \"r\")\n",
    "plt.plot(v18[\"temp_act\"], valve_line(bms_data)[18](v18[\"temp_act\"]), \"g\")\n",
    "plt.show()\n"
   ]
  },
  {
   "cell_type": "code",
   "execution_count": 4,
   "metadata": {},
   "outputs": [
    {
     "data": {
      "text/plain": [
       "array([0.2897322 , 0.20656089, 0.12338958, 0.04021827])"
      ]
     },
     "execution_count": 4,
     "metadata": {},
     "output_type": "execute_result"
    }
   ],
   "source": [
    "valve_line(bms_data)[18]([17, 18, 19, 20])"
   ]
  },
  {
   "cell_type": "code",
   "execution_count": 3,
   "metadata": {},
   "outputs": [
    {
     "data": {
      "image/png": "[encoded data removed]",
      "text/plain": [
       "<Figure size 432x288 with 1 Axes>"
      ]
     },
     "metadata": {
      "needs_background": "light"
     },
     "output_type": "display_data"
    }
   ],
   "source": [
    "from util import get_cop, get_temp, valve_effectiveness, valve_multiplier\n",
    "from valve_estimation import valve_line\n",
    "from data_process import get_all_rooms\n",
    "import matplotlib.pyplot as plt\n",
    "import numpy as np\n",
    "bms_data = get_all_rooms(\"data-bms\")\n",
    "v18 = bms_data[bms_data[\"valve\"] == 17]\n",
    "x = np.linspace(v18[\"temp_act\"].min(), v18[\"temp_act\"].max(), 15)\n",
    "y = list(map(lambda temp: valve_effectiveness(v18, 17, temp), x))\n",
    "# p3 = np.poly1d(np.polyfit(x, y, 1))\n",
    "# plt.scatter(v18[\"temp_act\"], v18[\"temp_delta\"])\n",
    "plt.plot(x, y, \"r\")\n",
    "plt.plot(v18[\"temp_act\"], valve_line(bms_data)[17](v18[\"temp_act\"]), \"g\")\n",
    "plt.show()\n"
   ]
  },
  {
   "cell_type": "code",
   "execution_count": 8,
   "metadata": {},
   "outputs": [
    {
     "data": {
      "text/plain": [
       "array([ 0.16674841,  0.1020502 ,  0.037352  , -0.02734621])"
      ]
     },
     "execution_count": 8,
     "metadata": {},
     "output_type": "execute_result"
    }
   ],
   "source": [
    "valve_line(bms_data)[17]([17, 18, 19, 20])"
   ]
  },
  {
   "cell_type": "code",
   "execution_count": 4,
   "metadata": {},
   "outputs": [
    {
     "name": "stdout",
     "output_type": "stream",
     "text": [
      " \n",
      "-0.04821 x + 1.037\n"
     ]
    },
    {
     "data": {
      "image/png": "[encoded data removed]",
      "text/plain": [
       "<Figure size 432x288 with 1 Axes>"
      ]
     },
     "metadata": {
      "needs_background": "light"
     },
     "output_type": "display_data"
    }
   ],
   "source": [
    "from util import get_cop, get_temp, valve_effectiveness, valve_multiplier\n",
    "from valve_estimation import valve_line\n",
    "from data_process import get_all_rooms\n",
    "import matplotlib.pyplot as plt\n",
    "import numpy as np\n",
    "bms_data = get_all_rooms(\"data-bms\")\n",
    "v18 = bms_data[bms_data[\"valve\"] == 20]\n",
    "# x = np.linspace(v18[\"temp_act\"].min(), v18[\"temp_act\"].max(), 50)\n",
    "# y = list(map(lambda temp: valve_effectiveness(v18, 20, temp), x))\n",
    "# p3 = np.poly1d(np.polyfit(x, y, 1))\n",
    "# plt.scatter(v18[\"temp_act\"], v18[\"temp_delta\"])\n",
    "plt.scatter(v18[\"temp_act\"], v18[\"temp_delta\"])\n",
    "line = np.poly1d(np.polyfit(v18[\"temp_act\"], v18[\"temp_delta\"], 1))\n",
    "print(line)\n",
    "line2 = np.poly1d([-0.15, 3.6])\n",
    "x = np.linspace(17, 25, 20)\n",
    "plt.plot(x, line(x), \"r\")\n",
    "plt.plot(x, line2(x), \"g\")\n",
    "# plt.plot(x, valve_line(bms_data)[20](x), \"g\")\n",
    "plt.show()\n"
   ]
  },
  {
   "cell_type": "code",
   "execution_count": 3,
   "metadata": {},
   "outputs": [
    {
     "name": "stdout",
     "output_type": "stream",
     "text": [
      "[ 0.16674841  0.1020502   0.037352   -0.02734621 -0.09204441 -0.15674261]\n",
      "[ 0.2897322   0.20656089  0.12338958  0.04021827 -0.04295304 -0.12612435]\n",
      "[0.91 0.74 0.57 0.4  0.23 0.06]\n"
     ]
    }
   ],
   "source": [
    "print(valve_line(bms_data)[17]([17, 18, 19, 20, 21, 22]))\n",
    "print(valve_line(bms_data)[18]([17, 18, 19, 20, 21, 22]))\n",
    "print(valve_line(bms_data)[20]([17, 18, 19, 20, 21, 22]))"
   ]
  },
  {
   "cell_type": "code",
   "execution_count": 7,
   "metadata": {},
   "outputs": [
    {
     "data": {
      "text/html": [
       "<div>\n",
       "<style scoped>\n",
       "    .dataframe tbody tr th:only-of-type {\n",
       "        vertical-align: middle;\n",
       "    }\n",
       "\n",
       "    .dataframe tbody tr th {\n",
       "        vertical-align: top;\n",
       "    }\n",
       "\n",
       "    .dataframe thead th {\n",
       "        text-align: right;\n",
       "    }\n",
       "</style>\n",
       "<table border=\"1\" class=\"dataframe\">\n",
       "  <thead>\n",
       "    <tr style=\"text-align: right;\">\n",
       "      <th></th>\n",
       "      <th>time</th>\n",
       "      <th>valve</th>\n",
       "      <th>temp_act</th>\n",
       "      <th>temp_target</th>\n",
       "      <th>presence</th>\n",
       "      <th>room_id</th>\n",
       "      <th>temp</th>\n",
       "      <th>dwpt</th>\n",
       "      <th>rhum</th>\n",
       "      <th>prcp</th>\n",
       "      <th>snow</th>\n",
       "      <th>wdir</th>\n",
       "      <th>wspd</th>\n",
       "      <th>wpgt</th>\n",
       "      <th>pres</th>\n",
       "      <th>tsun</th>\n",
       "      <th>coco</th>\n",
       "      <th>next_hour_temp</th>\n",
       "      <th>temp_delta</th>\n",
       "    </tr>\n",
       "  </thead>\n",
       "  <tbody>\n",
       "    <tr>\n",
       "      <th>155</th>\n",
       "      <td>2022-12-25 05:00:00</td>\n",
       "      <td>20.0</td>\n",
       "      <td>18.8</td>\n",
       "      <td>19.0</td>\n",
       "      <td>0.0</td>\n",
       "      <td>522</td>\n",
       "      <td>6.0</td>\n",
       "      <td>5.6</td>\n",
       "      <td>97.0</td>\n",
       "      <td>0.0</td>\n",
       "      <td>NaN</td>\n",
       "      <td>284.0</td>\n",
       "      <td>16.6</td>\n",
       "      <td>NaN</td>\n",
       "      <td>1020.0</td>\n",
       "      <td>NaN</td>\n",
       "      <td>3.0</td>\n",
       "      <td>19.9</td>\n",
       "      <td>1.1</td>\n",
       "    </tr>\n",
       "    <tr>\n",
       "      <th>339</th>\n",
       "      <td>2022-12-27 03:00:00</td>\n",
       "      <td>20.0</td>\n",
       "      <td>18.9</td>\n",
       "      <td>21.0</td>\n",
       "      <td>0.0</td>\n",
       "      <td>522</td>\n",
       "      <td>8.0</td>\n",
       "      <td>6.6</td>\n",
       "      <td>91.0</td>\n",
       "      <td>0.0</td>\n",
       "      <td>NaN</td>\n",
       "      <td>263.0</td>\n",
       "      <td>13.7</td>\n",
       "      <td>NaN</td>\n",
       "      <td>1015.8</td>\n",
       "      <td>NaN</td>\n",
       "      <td>3.0</td>\n",
       "      <td>19.9</td>\n",
       "      <td>1.0</td>\n",
       "    </tr>\n",
       "  </tbody>\n",
       "</table>\n",
       "</div>"
      ],
      "text/plain": [
       "                    time  valve  temp_act  temp_target  presence room_id  \\\n",
       "155  2022-12-25 05:00:00   20.0      18.8         19.0       0.0     522   \n",
       "339  2022-12-27 03:00:00   20.0      18.9         21.0       0.0     522   \n",
       "\n",
       "     temp  dwpt  rhum  prcp  snow   wdir  wspd  wpgt    pres  tsun  coco  \\\n",
       "155   6.0   5.6  97.0   0.0   NaN  284.0  16.6   NaN  1020.0   NaN   3.0   \n",
       "339   8.0   6.6  91.0   0.0   NaN  263.0  13.7   NaN  1015.8   NaN   3.0   \n",
       "\n",
       "     next_hour_temp  temp_delta  \n",
       "155            19.9         1.1  \n",
       "339            19.9         1.0  "
      ]
     },
     "execution_count": 7,
     "metadata": {},
     "output_type": "execute_result"
    }
   ],
   "source": [
    "v18 = bms_data[bms_data[\"valve\"] == 20]\n",
    "v18[v18[\"temp_act\"] < 19]"
   ]
  },
  {
   "cell_type": "code",
   "execution_count": null,
   "metadata": {},
   "outputs": [],
   "source": []
  }
 ],
 "metadata": {
  "kernelspec": {
   "display_name": "diploma_env",
   "language": "python",
   "name": "diploma_env"
  },
  "language_info": {
   "codemirror_mode": {
    "name": "ipython",
    "version": 3
   },
   "file_extension": ".py",
   "mimetype": "text/x-python",
   "name": "python",
   "nbconvert_exporter": "python",
   "pygments_lexer": "ipython3",
   "version": "3.10.10"
  },
  "orig_nbformat": 4
 },
 "nbformat": 4,
 "nbformat_minor": 2
}
