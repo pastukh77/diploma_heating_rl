{
 "cells": [
  {
   "cell_type": "code",
   "execution_count": null,
   "metadata": {},
   "outputs": [],
   "source": [
    "import pandas as pd\n",
    "import altair as alt\n",
    "alt.Chart(temp_act_df).mark_line().encode(\n",
    "    x=alt.X(\"time:T\"),\n",
    "    y=alt.Y(\"state:Q\")\n",
    ")"
   ]
  },
  {
   "cell_type": "code",
   "execution_count": null,
   "metadata": {},
   "outputs": [],
   "source": [
    "presence_df = pd.read_csv(\"data-bms/52_presence.csv\", index_col=0)\n",
    "temp_act_target_presence = pd.merge(temp_act_target, presence_df, on=\"time\")\n",
    "temp_act_target_presence = temp_act_target_presence.rename({\"state_x\": \"temp_act\", \n",
    "    \"state_y\": \"temp_target\", \"state\": \"presence\"}, axis=\"columns\")"
   ]
  },
  {
   "cell_type": "code",
   "execution_count": null,
   "metadata": {},
   "outputs": [],
   "source": [
    "valve_df = pd.read_csv(\"data-bms/52_valve.csv\", index_col=0)\n",
    "room_df = pd.merge(valve_df, temp_act_target_presence, on=\"time\").rename({\"state\": \"valve\"}, axis=\"columns\")"
   ]
  },
  {
   "cell_type": "code",
   "execution_count": null,
   "metadata": {},
   "outputs": [],
   "source": [
    "weather_df = pd.read_csv(\"data-bms/weather.csv\")\n",
    "room_df.time = pd.to_datetime(room_df.time).dt.strftime('%Y-%m-%d %H:%M:%S')\n",
    "weather_df.time = pd.to_datetime(weather_df.time).dt.strftime('%Y-%m-%d %H:%M:%S')"
   ]
  },
  {
   "cell_type": "code",
   "execution_count": null,
   "metadata": {},
   "outputs": [],
   "source": [
    "def get_room_df(room_id):\n",
    "    temp_act_df = pd.read_csv(f\"data-bms/{room_id}_temp_act.csv\", index_col=0)\n",
    "    temp_target_df = pd.read_csv(f\"data-bms/{room_id}_temp_target.csv\", index_col=0)\n",
    "    temp_act_target = pd.merge(temp_act_df, temp_target_df, on=\"time\")\n",
    "    "
   ]
  },
  {
   "cell_type": "code",
   "execution_count": null,
   "metadata": {},
   "outputs": [],
   "source": [
    "pd.merge(room_df, weather_df, on=\"time\")\n"
   ]
  },
  {
   "cell_type": "code",
   "execution_count": null,
   "metadata": {},
   "outputs": [],
   "source": []
  }
 ],
 "metadata": {
  "kernelspec": {
   "display_name": "diploma_env",
   "language": "python",
   "name": "python3"
  },
  "language_info": {
   "codemirror_mode": {
    "name": "ipython",
    "version": 3
   },
   "file_extension": ".py",
   "mimetype": "text/x-python",
   "name": "python",
   "nbconvert_exporter": "python",
   "pygments_lexer": "ipython3",
   "version": "3.10.10"
  },
  "orig_nbformat": 4
 },
 "nbformat": 4,
 "nbformat_minor": 2
}
